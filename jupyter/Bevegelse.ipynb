{
 "cells": [
  {
   "cell_type": "markdown",
   "id": "1821f6c4-dab4-41d8-a199-2aa3d88dd6f2",
   "metadata": {},
   "source": [
    "# Bevegelse med PASCO sensorer\n",
    "\n",
    "## Sum av posisjon og reist avstand\n",
    "Bruk en bevegelsessensor og en //code.Node cart til å måle på bevegelse. Formålet med øvelsen er å øve kodeteknisk. \n",
    "\n"
   ]
  },
  {
   "cell_type": "code",
   "execution_count": null,
   "id": "978fa64f-bcb2-4b80-ba19-a55fe48af563",
   "metadata": {},
   "outputs": [],
   "source": [
    "from pylab import *\n",
    "import time\n",
    "from pasco.pasco_ble_device import PASCOBLEDevice\n",
    "from pasco.code_node_device import CodeNodeDevice\n",
    "\n",
    "smilemunn = [[0,0],[4,0],[2,1],[0,2],[1,3],[2,3],[3,3],[4,2]]\n",
    "\n",
    "codenode  = CodeNodeDevice()\n",
    "codenode.connect_by_id('354-873')\n",
    "codenode.set_leds_in_array(smilemunn)\n",
    "\n",
    "bevegelse = PASCOBLEDevice()\n",
    "bevegelse.connect_by_id('943-452')\n",
    "\n",
    "for i in range(10):\n",
    "    p = codenode.read_data('MagneticFieldStrength')\n",
    "    a = bevegelse.read_data('Position')\n",
    "    print(p,a)\n",
    "\n",
    "codenode.disconnect()    \n",
    "bevegelse.disconnect()"
   ]
  },
  {
   "cell_type": "markdown",
   "id": "f5e92208-b769-4f3c-b367-6aee9603cba9",
   "metadata": {},
   "source": [
    "## Friksjon\n",
    "Mål friksjon mot underlaget med en //code.Node"
   ]
  },
  {
   "cell_type": "code",
   "execution_count": null,
   "id": "f8efcb59-b78d-43a6-a7e0-72dad98d8299",
   "metadata": {},
   "outputs": [],
   "source": [
    "# Documentation: https://pypi.org/project/pasco/\n",
    "import time\n",
    "from pasco.code_node_device import CodeNodeDevice\n",
    "\n",
    "codenode = CodeNodeDevice()\n",
    "codenode.connect_by_id('354-873')\n",
    "smilemunn = [[0,0],[4,0],[2,1],[0,2],[1,3],[2,3],[3,3],[4,2]]\n",
    "codenode.set_leds_in_array(smilemunn)\n",
    "\n",
    "m = 0.1\n",
    "data = 'Accelerationy'\n",
    "\n",
    "for i in range(10):\n",
    "    ay = codenode.read_data(data)\n",
    "    print(\"Friksjonskraft\",ay)\n",
    "    time.sleep(1)\n",
    "\n",
    "codenode.disconnect()"
   ]
  }
 ],
 "metadata": {
  "kernelspec": {
   "display_name": "Python 3 (ipykernel)",
   "language": "python",
   "name": "python3"
  },
  "language_info": {
   "codemirror_mode": {
    "name": "ipython",
    "version": 3
   },
   "file_extension": ".py",
   "mimetype": "text/x-python",
   "name": "python",
   "nbconvert_exporter": "python",
   "pygments_lexer": "ipython3",
   "version": "3.10.4"
  }
 },
 "nbformat": 4,
 "nbformat_minor": 5
}

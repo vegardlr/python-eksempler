{
 "cells": [
  {
   "cell_type": "code",
   "execution_count": null,
   "id": "20010a20",
   "metadata": {},
   "outputs": [],
   "source": [
    "#LIVE PLOTTING WITH PASCO PYTHON MODULE\n",
    "#CONTACT: kontakt@pythonskole.no\n",
    "#Version 15.10.2021\n",
    "\n",
    "# Documentation: https://pypi.org/project/pasco/\n",
    "import time\n",
    "from pasco.code_node_device import CodeNodeDevice\n",
    "codenode = CodeNodeDevice()\n",
    "print(codenode.scan())\n",
    "\n",
    "\n",
    "#codenode.connect_by_id('354-873')\n",
    "#smilemunn = [[0,0],[4,0],[2,1],[0,2],[1,3],[2,3],[3,3],[4,2]]\n",
    "#codenode.set_leds_in_array(smilemunn)\n",
    "#m = 0.1\n",
    "#data = 'Accelerationy'\n",
    "#for i in range(10):\n",
    "#    ay = codenode.read_data(data)\n",
    "#    print(\"Friksjonskraft\",ay)\n",
    "#    time.sleep(1)\n",
    "#codenode.disconnect()\n"
   ]
  },
  {
   "cell_type": "code",
   "execution_count": null,
   "id": "d95d8f11",
   "metadata": {
    "collapsed": true
   },
   "outputs": [],
   "source": []
  }
 ],
 "metadata": {
  "kernelspec": {
   "display_name": "Python 3 (ipykernel)",
   "language": "python",
   "name": "python3"
  },
  "language_info": {
   "codemirror_mode": {
    "name": "ipython",
    "version": 3
   },
   "file_extension": ".py",
   "mimetype": "text/x-python",
   "name": "python",
   "nbconvert_exporter": "python",
   "pygments_lexer": "ipython3",
   "version": "3.10.4"
  }
 },
 "nbformat": 4,
 "nbformat_minor": 5
}
